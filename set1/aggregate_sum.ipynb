{
 "metadata": {
  "language_info": {
   "codemirror_mode": {
    "name": "ipython",
    "version": 3
   },
   "file_extension": ".py",
   "mimetype": "text/x-python",
   "name": "python",
   "nbconvert_exporter": "python",
   "pygments_lexer": "ipython3",
   "version": "3.7.10-final"
  },
  "orig_nbformat": 2,
  "kernelspec": {
   "name": "python3",
   "display_name": "Python 3.7.10 64-bit (conda)",
   "metadata": {
    "interpreter": {
     "hash": "b3ba2566441a7c06988d0923437866b63cedc61552a5af99d1f4fb67d367b25f"
    }
   }
  }
 },
 "nbformat": 4,
 "nbformat_minor": 2,
 "cells": [
  {
   "source": [
    "Miltiades Vasiliades 2944"
   ],
   "cell_type": "markdown",
   "metadata": {}
  },
  {
   "cell_type": "code",
   "execution_count": 2,
   "metadata": {},
   "outputs": [],
   "source": [
    "from copy import deepcopy"
   ]
  },
  {
   "cell_type": "code",
   "execution_count": 3,
   "metadata": {},
   "outputs": [],
   "source": [
    "def readfile(filepath,table):\n",
    "    with open(filepath) as R_file:\n",
    "        for line in R_file:\n",
    "            table.append([int(i) if i.isdigit() else i for i in line.split()])"
   ]
  },
  {
   "cell_type": "code",
   "execution_count": 4,
   "metadata": {},
   "outputs": [],
   "source": [
    "def mergeSort(table\n",
    "#,output\n",
    "):\n",
    "    if len(table) > 1:\n",
    "        pivot = len(table) // 2\n",
    "        L = table[:pivot]\n",
    "        R = table[pivot:]\n",
    "        mergeSort(R)\n",
    "        mergeSort(L)\n",
    "\n",
    "        i = k = j = 0\n",
    "        while i < len(L) and j < len(R):\n",
    "            if L[i] < R[j]:\n",
    "                table[k] = L[i]\n",
    "                i = i + 1\n",
    "            else:\n",
    "                table[k] = R[j]\n",
    "                j = j + 1\n",
    "            k = k + 1\n",
    "        while i < len(L):\n",
    "            table[k] = L[i]\n",
    "            i = i + 1\n",
    "            k = k + 1\n",
    "        while j < len(R):\n",
    "            table[k] = R[j]\n",
    "            j = j + 1\n",
    "            k = k + 1"
   ]
  },
  {
   "cell_type": "code",
   "execution_count": 5,
   "metadata": {},
   "outputs": [],
   "source": [
    "def aggregateSortedTable(table):\n",
    "    aggregate = []\n",
    "    if len(table)>1:\n",
    "        aggregate.append(deepcopy(table[0]))\n",
    "    j = 0\n",
    "    for i in range(1,len(table)):\n",
    "        if table[i][0] == aggregate[j][0]:\n",
    "            aggregate[j][1] = aggregate[j][1] + deepcopy(table[i][1])\n",
    "        else:\n",
    "            aggregate.append(deepcopy(table[i]))\n",
    "            j = j + 1\n",
    "    return aggregate"
   ]
  },
  {
   "cell_type": "code",
   "execution_count": 6,
   "metadata": {},
   "outputs": [],
   "source": [
    "def slow_sum(table):\n",
    "    mergeSort(R_table)\n",
    "    R_sum_slow = aggregateSortedTable(R_table)\n",
    "    return R_sum_slow"
   ]
  },
  {
   "cell_type": "code",
   "execution_count": 7,
   "metadata": {},
   "outputs": [],
   "source": [
    "def write_sum(table):\n",
    "    with open('Rgroupby.tsv',mode='w')as output:\n",
    "        for item in table:\n",
    "            output.write(item[0]+'\\t'+str(item[1])+'\\n')\n"
   ]
  },
  {
   "cell_type": "code",
   "execution_count": 8,
   "metadata": {},
   "outputs": [],
   "source": [
    "def mergeAggregate(table\n",
    "#,output\n",
    "):\n",
    "    if len(table) > 1:\n",
    "        pivot = len(table) // 2\n",
    "        L = table[:pivot]\n",
    "        R = table[pivot:]\n",
    "        mergeAggregate(R)        \n",
    "        mergeAggregate(L)\n",
    "        i = k = j = 0\n",
    "        while i < len(L) and j < len(R):\n",
    "            if L[i][0] == R[j][0]:\n",
    "                table[k][0] = L[i][0]\n",
    "                table[k][1] = L[i][1] + R[j][1]\n",
    "                i = i + 1\n",
    "                j = j + 1\n",
    "            else:\n",
    "                k = k + 1\n",
    "                if L[i] < R[j]:\n",
    "                    table[k] = L[i]\n",
    "                    i = i + 1                    \n",
    "                else:\n",
    "                    table[k] = R[j]\n",
    "                    j = j + 1\n",
    "        while i < len(L):\n",
    "            if L[i][0] == table[k][0]:\n",
    "                table[k][1] = table[k][1] + L[i][1]\n",
    "            else:\n",
    "                table[k] = L[i]\n",
    "                k = k + 1\n",
    "            i = i + 1\n",
    "        while j < len(R):\n",
    "            if R[j][0] == table[k][0]:\n",
    "                table[k][1] = table[k][1] + R[j][1]\n",
    "            else:\n",
    "                table[k] = R[j]            \n",
    "                k = k + 1\n",
    "            j = j + 1"
   ]
  },
  {
   "source": [
    "      \n",
    "\n",
    "R_path = 'R.tsv'\n",
    "R_sum = 'R_groupby_sum.tsv'\n",
    "R_table=[]\n",
    "R_sum = []\n",
    "\n",
    "\n",
    "\n",
    "readfile(R_path,R_table)\n",
    "\n",
    "#mergeSortAggregate(R_table)\n",
    "\n",
    "R_sum = slow_sum(R_table)\n",
    "\n",
    "write_sum(R_sum)"
   ],
   "cell_type": "code",
   "metadata": {},
   "execution_count": 17,
   "outputs": []
  },
  {
   "cell_type": "code",
   "execution_count": null,
   "metadata": {},
   "outputs": [],
   "source": []
  }
 ]
}