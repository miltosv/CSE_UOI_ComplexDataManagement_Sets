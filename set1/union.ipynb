{
 "metadata": {
  "language_info": {
   "codemirror_mode": {
    "name": "ipython",
    "version": 3
   },
   "file_extension": ".py",
   "mimetype": "text/x-python",
   "name": "python",
   "nbconvert_exporter": "python",
   "pygments_lexer": "ipython3",
   "version": "3.7.10-final"
  },
  "orig_nbformat": 2,
  "kernelspec": {
   "name": "python3",
   "display_name": "Python 3.7.10 64-bit (conda)",
   "metadata": {
    "interpreter": {
     "hash": "b3ba2566441a7c06988d0923437866b63cedc61552a5af99d1f4fb67d367b25f"
    }
   }
  }
 },
 "nbformat": 4,
 "nbformat_minor": 2,
 "cells": [
  {
   "source": [
    "Miltiades Vasiliades 2944"
   ],
   "cell_type": "markdown",
   "metadata": {}
  },
  {
   "cell_type": "code",
   "execution_count": 17,
   "metadata": {},
   "outputs": [],
   "source": [
    "R_sorted_path='R_sorted.tsv'\n",
    "S_sorted_path='S_sorted.tsv'\n",
    "union_out_path='RunionS.tsv'\n",
    "S=''\n",
    "R=''\n",
    "out=''\n",
    "with open(union_out_path,'w',newline='\\n') as output:\n",
    "    with open(R_sorted_path,'r',newline='\\n') as R_sorted:\n",
    "        with open(S_sorted_path,'r',newline='\\n') as S_sorted:\n",
    "            R = R_sorted.readline()\n",
    "            S = S_sorted.readline()\n",
    "            R_temp = ''\n",
    "            S_temp = S\n",
    "            while R and S:\n",
    "                while R == R_temp:\n",
    "                    R=R_sorted.readline()\n",
    "                if R < S:\n",
    "                    output.write(R)\n",
    "                    R_temp = R\n",
    "                    R = R_sorted.readline()\n",
    "                elif R>S:\n",
    "                    output.write(S)\n",
    "                    S_temp = S\n",
    "                    S = S_sorted.readline()\n",
    "                    while S == S_temp:\n",
    "                        S = S_sorted.readline()\n",
    "                elif R==S:\n",
    "                    output.write(R)\n",
    "                    R_temp = R\n",
    "                    R = R_sorted.readline()\n",
    "                    S_temp = S\n",
    "                    S = S_sorted.readline()\n",
    "                    while S == S_temp:\n",
    "                        S = S_sorted.readline()\n",
    "            while R:\n",
    "                output.write(R)\n",
    "                R_temp = R\n",
    "                R = R_sorted.readline()\n",
    "                while R == R_temp:\n",
    "                    R = R_sorted.readline()\n",
    "            \n",
    "            while S:\n",
    "                output.write(S)\n",
    "                S_temp = S\n",
    "                S = S_sorted.readline()\n",
    "                while S == S_temp:\n",
    "                    S = S_sorted.readline()\n",
    "                    \n",
    "\n",
    "            \n",
    "                "
   ]
  },
  {
   "cell_type": "code",
   "execution_count": 10,
   "metadata": {},
   "outputs": [
    {
     "output_type": "execute_result",
     "data": {
      "text/plain": [
       "True"
      ]
     },
     "metadata": {},
     "execution_count": 10
    }
   ],
   "source": [
    "r1='aa 34'\n",
    "r2='bb 33'\n",
    "r3=''\n",
    "r1>r3"
   ]
  },
  {
   "cell_type": "code",
   "execution_count": null,
   "metadata": {},
   "outputs": [],
   "source": []
  }
 ]
}