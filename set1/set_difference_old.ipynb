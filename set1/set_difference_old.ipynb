{
 "metadata": {
  "language_info": {
   "codemirror_mode": {
    "name": "ipython",
    "version": 3
   },
   "file_extension": ".py",
   "mimetype": "text/x-python",
   "name": "python",
   "nbconvert_exporter": "python",
   "pygments_lexer": "ipython3",
   "version": "3.7.10-final"
  },
  "orig_nbformat": 2,
  "kernelspec": {
   "name": "python3",
   "display_name": "Python 3.7.10 64-bit (conda)",
   "metadata": {
    "interpreter": {
     "hash": "b3ba2566441a7c06988d0923437866b63cedc61552a5af99d1f4fb67d367b25f"
    }
   }
  }
 },
 "nbformat": 4,
 "nbformat_minor": 2,
 "cells": [
  {
   "source": [
    "Miltiades Vasiliades 2944"
   ],
   "cell_type": "markdown",
   "metadata": {}
  },
  {
   "cell_type": "code",
   "execution_count": 1,
   "metadata": {},
   "outputs": [],
   "source": [
    "from copy import deepcopy"
   ]
  },
  {
   "cell_type": "code",
   "execution_count": 2,
   "metadata": {},
   "outputs": [],
   "source": [
    "R_sorted_path='R_sorted.tsv'\n",
    "S_sorted_path='S_sorted.tsv'\n",
    "intersection_out_path='RdifferenceS.tsv'\n",
    "S=[]\n",
    "R=[]\n",
    "out=[]\n",
    "R_prev=[]\n",
    "S_prev=[]\n",
    "with open(intersection_out_path,'a') as output:\n",
    "    with open(R_sorted_path,'r',newline='\\n') as R_sorted:\n",
    "        with open(S_sorted_path,'r',newline='\\n') as S_sorted:\n",
    "            S = S_sorted.readline()\n",
    "            S = S.split()\n",
    "            for R in R_sorted:\n",
    "                R=R.split()\n",
    "                if R_prev == R:\n",
    "                    continue\n",
    "                R_prev = deepcopy(R)\n",
    "                while True:\n",
    "                    if S == R:\n",
    "                        S_prev=deepcopy(S)\n",
    "                        break\n",
    "                    elif S > R:\n",
    "                        output.write(R[0]+'\\t'+R[1]+'\\n')\n",
    "                        S_prev = deepcopy(S)\n",
    "                        while True:\n",
    "                            S = S_sorted.readline()\n",
    "                            S = S.split()\n",
    "                            if S != S_prev:\n",
    "                                break\n",
    "                        break\n",
    "                    elif S < R:\n",
    "                        S_prev = deepcopy(S)\n",
    "                        break\n",
    "\n",
    "                    \n",
    "                    "
   ]
  },
  {
   "cell_type": "code",
   "execution_count": 3,
   "metadata": {},
   "outputs": [
    {
     "output_type": "execute_result",
     "data": {
      "text/plain": [
       "True"
      ]
     },
     "metadata": {},
     "execution_count": 3
    }
   ],
   "source": [
    "r1=['aa',1]\n",
    "r2=['aa',2]\n",
    "r3=[]\n",
    "r1<r2"
   ]
  },
  {
   "cell_type": "code",
   "execution_count": null,
   "metadata": {},
   "outputs": [],
   "source": []
  }
 ]
}