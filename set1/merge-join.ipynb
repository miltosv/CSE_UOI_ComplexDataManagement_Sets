{
 "metadata": {
  "language_info": {
   "codemirror_mode": {
    "name": "ipython",
    "version": 3
   },
   "file_extension": ".py",
   "mimetype": "text/x-python",
   "name": "python",
   "nbconvert_exporter": "python",
   "pygments_lexer": "ipython3",
   "version": "3.7.10-final"
  },
  "orig_nbformat": 2,
  "kernelspec": {
   "name": "python3",
   "display_name": "Python 3",
   "language": "python"
  }
 },
 "nbformat": 4,
 "nbformat_minor": 2,
 "cells": [
  {
   "source": [
    "Miltiades Vasiliades 2944\n",
    "Set #1"
   ],
   "cell_type": "markdown",
   "metadata": {}
  },
  {
   "cell_type": "code",
   "execution_count": 5,
   "metadata": {},
   "outputs": [
    {
     "output_type": "stream",
     "name": "stdout",
     "text": [
      "Max Bufffer size for this operation: 4\n"
     ]
    }
   ],
   "source": [
    "R_sorted_path='R_sorted.tsv'\n",
    "S_sorted_path='S_sorted.tsv'\n",
    "join_out_path='RjoinS.tsv'\n",
    "max_buffer=0\n",
    "buffer = []\n",
    "S = ''\n",
    "with open(join_out_path,'a') as output:\n",
    "    with open(R_sorted_path,'r') as R_sorted:\n",
    "        with open(S_sorted_path,'r') as S_sorted:\n",
    "            for R in R_sorted:\n",
    "                R_split=R.split()\n",
    "                if len(buffer) == 0 and S:\n",
    "                        S_split = S.split()\n",
    "                        if R_split[0]==S_split[0]:\n",
    "                            output.write(str(R_split[0]+'\\t'+R_split[1]+'\\t'+S_split[1]+'\\n'))\n",
    "                            buffer.append(S_split)\n",
    "                        elif R_split[0]<S_split[0]:\n",
    "                            continue\n",
    "                elif(len(buffer)!=0):\n",
    "                    #print(buffer)\n",
    "                    if R_split[0] == buffer[0][0]:\n",
    "                        for tpl in buffer:\n",
    "                            output.write(str(R_split[0]+'\\t'+R_split[1]+'\\t'+tpl[1]+'\\n'))\n",
    "                        continue\n",
    "                    else:\n",
    "                        max_buffer = max(len(buffer),max_buffer)\n",
    "                        buffer.clear()\n",
    "                        continue\n",
    "                while True:\n",
    "                    S = S_sorted.readline()\n",
    "                    if not S:\n",
    "                        break\n",
    "                    S_split=S.split()\n",
    "                    if R_split[0]==S_split[0]:                            \n",
    "                        output.write(str(R_split[0]+'\\t'+R_split[1]+'\\t'+S_split[1]+'\\n'))\n",
    "                        buffer.append(S_split)\n",
    "                    else:\n",
    "                        break                                               \n",
    "\n",
    "print(\"Max Bufffer size for this operation:\", max_buffer)              \n",
    "                \n",
    "                "
   ]
  }
 ]
}