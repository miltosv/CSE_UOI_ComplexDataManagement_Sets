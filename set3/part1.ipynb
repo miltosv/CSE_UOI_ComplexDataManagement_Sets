{
 "metadata": {
  "language_info": {
   "codemirror_mode": {
    "name": "ipython",
    "version": 3
   },
   "file_extension": ".py",
   "mimetype": "text/x-python",
   "name": "python",
   "nbconvert_exporter": "python",
   "pygments_lexer": "ipython3",
   "version": "3.7.10"
  },
  "orig_nbformat": 2,
  "kernelspec": {
   "name": "python3",
   "display_name": "Python 3.7.10 64-bit (conda)",
   "metadata": {
    "interpreter": {
     "hash": "b3ba2566441a7c06988d0923437866b63cedc61552a5af99d1f4fb67d367b25f"
    }
   }
  }
 },
 "nbformat": 4,
 "nbformat_minor": 2,
 "cells": [
  {
   "source": [
    "Miltiades Vasiliades 2944"
   ],
   "cell_type": "markdown",
   "metadata": {}
  },
  {
   "cell_type": "code",
   "execution_count": 1,
   "metadata": {},
   "outputs": [],
   "source": [
    "import sys"
   ]
  },
  {
   "cell_type": "code",
   "execution_count": 2,
   "metadata": {},
   "outputs": [],
   "source": [
    "def calc_dist(x1,y1,x2,y2):\n",
    "    from math import sqrt\n",
    "    dist = sqrt( (x2 - x1)**2 + (y2 - y1)**2 )\n",
    "    return dist"
   ]
  },
  {
   "cell_type": "code",
   "execution_count": 3,
   "metadata": {},
   "outputs": [],
   "source": [
    "def complete_adj(nodes):\n",
    "    for node in nodes:\n",
    "        adj = node[3]\n",
    "        for edge in adj:\n",
    "            index = edge[0]\n",
    "            e = edge[1:]\n",
    "            e.insert(0,node[0])\n",
    "            nodes[int(index)][3].append(e)"
   ]
  },
  {
   "cell_type": "code",
   "execution_count": 4,
   "metadata": {
    "tags": []
   },
   "outputs": [],
   "source": [
    "def write_nodes_to_output(nodes):\n",
    "    with open('out.txt',mode='w')as out:\n",
    "        for entry in nodes:\n",
    "            flattened = [val for sublist in entry[3] for val in sublist]\n",
    "            out.write(\" \".join(entry[:3])+' ')\n",
    "            out.write(\" \".join(flattened))\n",
    "            out.write('\\n')\n",
    "\n",
    "        \n"
   ]
  },
  {
   "cell_type": "code",
   "execution_count": 5,
   "metadata": {},
   "outputs": [],
   "source": [
    "nodes = []\n",
    "edge = ''\n",
    "cal_edge = 'cal.cedge'\n",
    "cal_node = 'cal.cnode'\n",
    "with open(cal_node) as node_f:\n",
    "    for node in node_f:\n",
    "        node = node.split()\n",
    "        adj = []\n",
    "        node.append(adj)\n",
    "        nodes.append(node)"
   ]
  },
  {
   "cell_type": "code",
   "execution_count": 6,
   "metadata": {
    "tags": []
   },
   "outputs": [],
   "source": [
    "with open(cal_edge) as edge_f:\n",
    "    for edge in edge_f:\n",
    "        edge = edge.split()\n",
    "\n",
    "        source_edge = edge[2:]\n",
    "        nodes[int(edge[1])][3].append(source_edge)        \n",
    "\n",
    "        source_node = edge[1:2]\n",
    "        dest_node = edge[2:3]\n",
    "        edge = edge[3:]\n",
    "        edge[0:0] = source_node\n",
    "\n",
    "        nodes[int(dest_node[0])][3].append(edge)"
   ]
  },
  {
   "cell_type": "code",
   "execution_count": 7,
   "metadata": {},
   "outputs": [
    {
     "output_type": "stream",
     "name": "stdout",
     "text": [
      "['0', '-121.904167', '41.974556', [['1', '0.002025'], ['6', '0.005952']]]\n['1', '-121.902153', '41.974766', [['0', '0.002025'], ['2', '0.014350']]]\n['2', '-121.896790', '41.988075', [['1', '0.014350'], ['3', '0.012279']]]\n['3', '-121.889603', '41.998032', [['2', '0.012279'], ['4', '0.011099']]]\n['4', '-121.886681', '42.008739', [['3', '0.011099']]]\n['5', '-121.915062', '41.970314', [['6', '0.006157'], ['7', '0.001408'], ['8', '0.012008']]]\n['6', '-121.910088', '41.973942', [['0', '0.005952'], ['5', '0.006157']]]\n"
     ]
    },
    {
     "output_type": "execute_result",
     "data": {
      "text/plain": [
       "[None, None, None, None, None, None, None]"
      ]
     },
     "metadata": {},
     "execution_count": 7
    }
   ],
   "source": [
    "[print (nd) for nd in nodes[:7]]"
   ]
  },
  {
   "cell_type": "code",
   "execution_count": 8,
   "metadata": {},
   "outputs": [],
   "source": [
    "#write_nodes_to_output(nodes)"
   ]
  },
  {
   "cell_type": "code",
   "execution_count": 9,
   "metadata": {
    "tags": []
   },
   "outputs": [
    {
     "output_type": "stream",
     "name": "stdout",
     "text": [
      "278\n1.037478\n[(0, 6), (6, 5), (5, 7), (7, 265), (265, 264), (264, 263), (263, 262), (262, 261), (261, 260), (260, 259), (259, 258), (258, 297), (297, 434), (434, 433), (433, 432), (432, 431), (431, 430), (430, 429), (429, 428), (428, 427), (427, 426), (426, 425), (425, 424), (424, 423), (423, 422), (422, 421), (421, 420), (420, 419), (419, 418), (418, 417), (417, 416), (416, 415), (415, 414), (414, 413), (413, 412), (412, 411), (411, 410), (410, 409), (409, 408), (408, 407), (407, 354), (354, 353), (353, 347), (347, 348), (348, 349), (349, 350), (350, 351), (351, 352), (352, 39), (39, 38), (38, 37), (37, 9)]\n"
     ]
    }
   ],
   "source": [
    "def dijkstra(start,end):\n",
    "    import heapq\n",
    "    global nodes\n",
    "    iterations = 0\n",
    "    SPD = []\n",
    "    path = []\n",
    "    visited  = []\n",
    "    SPD = [99999999999 for node in nodes]\n",
    "    path = [[] for node in nodes]\n",
    "    visited = [False for node in nodes]\n",
    "    Q = []\n",
    "    SPD[start] = 0\n",
    "    heapq.heappush(Q,(SPD[start],str(start)))    \n",
    "    while Q:\n",
    "        v = heapq.heappop(Q)\n",
    "        v = int(v[1])\n",
    "        iterations = iterations + 1\n",
    "        visited[v] = True\n",
    "        if v == end:\n",
    "            print(iterations)\n",
    "            print(SPD[end])\n",
    "            return path[end] \n",
    "        for u in nodes[v][3]:\n",
    "            u_ptr = int(u[0])\n",
    "            if (not visited[u_ptr]) and SPD[u_ptr] > SPD[v] + float(u[1]):\n",
    "                SPD[u_ptr] = SPD[v] + float(u[1])\n",
    "                path[u_ptr] = path[v] + [(v,u_ptr)]\n",
    "                heapq.heappush(Q,(SPD[u_ptr],str(u[0])))\n",
    "\n",
    "print(dijkstra(0,9))"
   ]
  },
  {
   "cell_type": "code",
   "execution_count": 10,
   "metadata": {
    "tags": []
   },
   "outputs": [
    {
     "output_type": "stream",
     "name": "stdout",
     "text": [
      "98\n1.037478\n[(0, 6), (6, 5), (5, 7), (7, 265), (265, 264), (264, 263), (263, 262), (262, 261), (261, 260), (260, 259), (259, 258), (258, 297), (297, 434), (434, 433), (433, 432), (432, 431), (431, 430), (430, 429), (429, 428), (428, 427), (427, 426), (426, 425), (425, 424), (424, 423), (423, 422), (422, 421), (421, 420), (420, 419), (419, 418), (418, 417), (417, 416), (416, 415), (415, 414), (414, 413), (413, 412), (412, 411), (411, 410), (410, 409), (409, 408), (408, 407), (407, 354), (354, 353), (353, 347), (347, 348), (348, 349), (349, 350), (350, 351), (351, 352), (352, 39), (39, 38), (38, 37), (37, 9)]\n"
     ]
    }
   ],
   "source": [
    "def A_star(start,end):\n",
    "    import heapq\n",
    "    global nodes    \n",
    "    iterations = 0\n",
    "    SPD = [99999999999 for node in nodes]\n",
    "    path = [[] for node in nodes]\n",
    "    visited = [False for node in nodes]\n",
    "    dist = []\n",
    "    for i in range(len(nodes)):\n",
    "        args  = (nodes[end][1],nodes[end][2],nodes[i][1],nodes[i][2])\n",
    "        args = tuple(map(float,args))\n",
    "        dst = calc_dist(args[0],args[1],args[2],args[3])\n",
    "        dist.append(dst)    \n",
    "    Q = []\n",
    "    SPD[start] = 0\n",
    "    heapq.heappush(Q,(SPD[start]+dist[start],str(start)))\n",
    "    while Q:\n",
    "        #print(Q)\n",
    "        v = heapq.heappop(Q)\n",
    "        v = int(v[1])\n",
    "        iterations = iterations + 1\n",
    "        visited[v] = True\n",
    "        if v == end:\n",
    "            print(iterations)\n",
    "            print(SPD[end])\n",
    "            return path[end]        \n",
    "        for u in nodes[v][3]:\n",
    "            u_ptr = int(u[0])\n",
    "\n",
    "            if (not visited[u_ptr]) and ( SPD[u_ptr] > (SPD[v] + float(u[1]) ) ):\n",
    "               SPD[u_ptr] = SPD[v] + float(u[1])\n",
    "               path[u_ptr] = path[v] + [(v,u_ptr)]\n",
    "               heapq.heappush(Q, ( (SPD[u_ptr] + dist[u_ptr]) ,str(u[0])))\n",
    "\n",
    "print(A_star(0,9))"
   ]
  },
  {
   "cell_type": "code",
   "execution_count": 28,
   "metadata": {},
   "outputs": [],
   "source": [
    "def dijkstra_generator(start):\n",
    "    import heapq\n",
    "    global nodes\n",
    "    iterations = 0\n",
    "    SPD = []\n",
    "    #path = []\n",
    "    visited  = []\n",
    "    SPD = [99999999999 for node in nodes]\n",
    "    path = [[] for node in nodes]\n",
    "    visited = [False for node in nodes]\n",
    "    Q = []\n",
    "    SPD[start] = 0\n",
    "    heapq.heappush(Q,(SPD[start],str(start)))    \n",
    "    while Q:\n",
    "        v = heapq.heappop(Q)\n",
    "        v = int(v[1])\n",
    "        iterations = iterations + 1\n",
    "        visited[v] = True\n",
    "        yield (v,path[v],SPD[v])\n",
    "        for u in nodes[v][3]:\n",
    "            u_ptr = int(u[0])\n",
    "            if (not visited[u_ptr]) and SPD[u_ptr] > SPD[v] + float(u[1]):\n",
    "                SPD[u_ptr] = SPD[v] + float(u[1])\n",
    "                path[u_ptr] = path[v] + [(v,u_ptr)]\n",
    "                path.append(u_ptr)\n",
    "                heapq.heappush(Q,(SPD[u_ptr],str(u[0])))\n",
    "        "
   ]
  },
  {
   "cell_type": "code",
   "execution_count": 89,
   "metadata": {},
   "outputs": [
    {
     "output_type": "stream",
     "name": "stdout",
     "text": [
      "0 0\n"
     ]
    }
   ],
   "source": [
    "def best_place(lstofentries):\n",
    "    global nodes\n",
    "    import heapq\n",
    "    best = []\n",
    "    generators =  [dijkstra_generator(entry) for entry in lstofentries]\n",
    "    #print(len(generators))\n",
    "    distances = [[9999 for entry in entries]for node in nodes]\n",
    "    paths = [ [[]for entry in entries] for node in nodes]\n",
    "\n",
    "    S = []\n",
    "    upper_bound = [9999 for node in nodes]\n",
    "    lower_bound = [0 for node in nodes]\n",
    "    #print(paths[-1])\n",
    "    #print(len(distances),distances[-1])\n",
    "    #while True:\n",
    "    run = []\n",
    "    for j in range (len(generators)):\n",
    "        pairs = next(generators[j])\n",
    "        #print(pairs,j)\n",
    "        distances[pairs[0]][j] = pairs[2]\n",
    "        paths[pairs[0]][j] = pairs[1]\n",
    "        run.append([pairs[0],pairs[2]])\n",
    "    bound = 9999\n",
    "    nextorun = 0\n",
    "    if 9999 not in distances[pairs[0]]:\n",
    "        cost = max(distances[pairs[0]])\n",
    "        heapq.heappush(best,(cost,pairs[0]))\n",
    "    for i in range(len(run)):\n",
    "        if run[i][1]<bound:\n",
    "            bound = run[i][1]\n",
    "            nextorun = run[i][0]\n",
    "    print(bound,nextorun)    \n",
    "    while not best:\n",
    "        run = []\n",
    "        \n",
    "            #print(distances[pairs[0]])\n",
    "            if 9999 not in distances[pairs[0]]:\n",
    "                cost = max(distances[pairs[0]])\n",
    "                heapq.heappush(best,(cost,pairs[0]))\n",
    "        print(run)\n",
    "        S.append(run)\n",
    "    \n",
    "\n",
    "    \n",
    "\n",
    "        \n",
    "        \n",
    "\n",
    "    #print(best[0])\n",
    "\n",
    "entries = [0,1,6,5]\n",
    "best_place(entries)"
   ]
  },
  {
   "cell_type": "code",
   "execution_count": null,
   "metadata": {},
   "outputs": [],
   "source": []
  }
 ]
}