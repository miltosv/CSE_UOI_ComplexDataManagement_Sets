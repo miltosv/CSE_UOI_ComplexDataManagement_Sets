{
 "metadata": {
  "language_info": {
   "codemirror_mode": {
    "name": "ipython",
    "version": 3
   },
   "file_extension": ".py",
   "mimetype": "text/x-python",
   "name": "python",
   "nbconvert_exporter": "python",
   "pygments_lexer": "ipython3",
   "version": "3.7.10"
  },
  "orig_nbformat": 2,
  "kernelspec": {
   "name": "python3",
   "display_name": "Python 3.7.10 64-bit (conda)",
   "metadata": {
    "interpreter": {
     "hash": "b3ba2566441a7c06988d0923437866b63cedc61552a5af99d1f4fb67d367b25f"
    }
   }
  }
 },
 "nbformat": 4,
 "nbformat_minor": 2,
 "cells": [
  {
   "source": [
    "# Miltiades Vasiliades 2944"
   ],
   "cell_type": "markdown",
   "metadata": {}
  },
  {
   "cell_type": "code",
   "execution_count": null,
   "metadata": {},
   "outputs": [],
   "source": [
    "import pymorton\n",
    "from itertools import islice\n",
    "from copy import deepcopy"
   ]
  },
  {
   "cell_type": "code",
   "execution_count": null,
   "metadata": {
    "tags": []
   },
   "outputs": [],
   "source": [
    "coords_p='coords.txt'\n",
    "offsets_p='offsets.txt'\n",
    "polygons = []\n",
    "mbrs = []\n",
    "mbr_centres=[]\n",
    "z_curves=[]\n",
    "prev_start=0\n",
    "with open(coords_p) as coordinates:\n",
    "    with open(offsets_p) as offsets:\n",
    "        for offset in offsets:\n",
    "            pointers = [ int(x) for x in offset.split(sep=',') ]\n",
    "            prev_start=pointers[1]\n",
    "            polygon = [line.strip().split(sep=',') for line in islice(coordinates,pointers[1]-prev_start, pointers[2]-pointers[1]+1)]\n",
    "            max_x = max(map(lambda x: x[0], polygon))\n",
    "            min_x = min(map(lambda x: x[0], polygon))\n",
    "            max_y = max(map(lambda x: x[1], polygon))\n",
    "            min_y = min(map(lambda x: x[1], polygon))\n",
    "            mbrs.append([pointers[0],[min_x,max_x,min_y,max_y]])\n",
    "            centre = [(float(max_x)+float(min_x))/2,(float(max_y)+float(min_y))/2]\n",
    "            #mbr_centres.append(centre)\n",
    "            z_curves.append([pointers[0],pymorton.interleave_latlng(centre[1],centre[0])])\n",
    "z_curves.sort(key = lambda x: x[1])\n",
    "mbrs = [mbrs[i] for i in [idx[0] for idx in z_curves]]\n",
    "del mbr_centres\n",
    "\n",
    "\n"
   ]
  },
  {
   "cell_type": "code",
   "execution_count": null,
   "metadata": {
    "tags": []
   },
   "outputs": [],
   "source": [
    "Tree = []\n",
    "B = 20\n",
    "queue = []\n",
    "lvl = 0\n",
    "isnonleaf = 0\n",
    "node_id = 0\n",
    "for i in range(0,len(mbrs),B):\n",
    "    #print(i,B+i)\n",
    "    #node = []\n",
    "    nodeentries = mbrs[i:i+B]\n",
    "    queue.append((node_id,nodeentries,lvl))\n",
    "    Tree.append([isnonleaf,node_id,nodeentries])\n",
    "    node_id = node_id + 1\n",
    "    #print(queue[0])\n",
    "\n",
    "print(len(queue),' nodes at level ',lvl)\n",
    "## This fixes occupancy\n",
    "if len(queue)>=2 and len(queue[-1][1])<8:\n",
    "    print('size is for ',queue[-1][0], 'is', len(queue[-1][1]), '< 8 redirstributing using',queue[-2][0])\n",
    "    difference = 8 - len(queue[-1][1])\n",
    "    to_be_moved = queue[-2][1][-difference:]\n",
    "    while to_be_moved:\n",
    "        queue[-1][1].insert(0,to_be_moved.pop())\n",
    "    del queue[-2][1][-difference:]\n",
    "    print('new sizes are', queue[-1][0] ,'size:', len(queue[1][1]), queue[-2][0],'size:', len(queue[-2][1]))"
   ]
  },
  {
   "cell_type": "code",
   "execution_count": null,
   "metadata": {
    "tags": []
   },
   "outputs": [],
   "source": [
    "isnonleaf = 1\n",
    "how_many_nodes = 0\n",
    "changelvl = False\n",
    "reachedRoot=False\n",
    "node = []\n",
    "while len(queue)>1:\n",
    "    i = 0\n",
    "    e = []\n",
    "    while i<20 and queue:\n",
    "        if queue[0][2] == lvl:\n",
    "            e = queue.pop(0)\n",
    "            bounding = [x[1] for x in e[1]]\n",
    "            xs = [item for sublist in [x[:2] for x in bounding] for item in sublist]\n",
    "            ys = [item for sublist in [x[2:] for x in bounding] for item in sublist]\n",
    "            max_x = max(xs)\n",
    "            min_x = min(xs)\n",
    "            max_y = max(ys)\n",
    "            min_y = min(ys)\n",
    "            node.append([e[0],[min_x,max_x,min_y,max_y]])\n",
    "            i = i + 1\n",
    "        else:\n",
    "           changelvl=True\n",
    "           break\n",
    "    if node:\n",
    "        queue.append((node_id,node,lvl+1))\n",
    "        if len(queue)!=1:\n",
    "            Tree.append([isnonleaf,node_id,node])\n",
    "        node_id = node_id + 1\n",
    "        how_many_nodes = how_many_nodes + 1\n",
    "        node = []\n",
    "    \n",
    "    if changelvl:\n",
    "        lvl = lvl + 1\n",
    "        print(how_many_nodes,' nodes at level ', lvl)\n",
    "        how_many_nodes =0\n",
    "        node = []\n",
    "        changelvl = False    \n",
    "\n",
    "    if len(queue)>=2 and len(queue[1][1])<8 and queue[0][2]==queue[1][2]:\n",
    "        print('size is for ',queue[1][0], 'is', len(queue[1][1]), '< 8 redirstributing using',queue[0][0])\n",
    "        difference = 8 - len(queue[1][1])\n",
    "        to_be_moved = queue[0][1][-difference:]\n",
    "        while to_be_moved:\n",
    "            queue[1][1].insert(0,to_be_moved.pop())\n",
    "        del queue[0][1][-difference:]\n",
    "        print('new sizes are', queue[1][0] ,'size:', len(queue[1][1]), queue[0][0],'size:', len(queue[0][1]))\n",
    "\n",
    "print(len(queue),'nodes at root,',queue[0][2],'level')\n",
    "root=queue.pop()\n",
    "Tree.append([isnonleaf,root[0],root[1]])\n",
    "  "
   ]
  },
  {
   "cell_type": "code",
   "execution_count": null,
   "metadata": {
    "tags": []
   },
   "outputs": [],
   "source": [
    "with open('Rtree.txt','w') as output:\n",
    "    [output.write(str(item)+'\\n') for item in Tree]"
   ]
  },
  {
   "cell_type": "code",
   "execution_count": null,
   "metadata": {},
   "outputs": [],
   "source": []
  }
 ]
}