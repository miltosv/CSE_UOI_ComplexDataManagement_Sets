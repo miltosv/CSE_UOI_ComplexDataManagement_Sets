{
 "metadata": {
  "language_info": {
   "codemirror_mode": {
    "name": "ipython",
    "version": 3
   },
   "file_extension": ".py",
   "mimetype": "text/x-python",
   "name": "python",
   "nbconvert_exporter": "python",
   "pygments_lexer": "ipython3",
   "version": "3.7.10"
  },
  "orig_nbformat": 2,
  "kernelspec": {
   "name": "python3",
   "display_name": "Python 3.7.10 64-bit (conda)",
   "metadata": {
    "interpreter": {
     "hash": "b3ba2566441a7c06988d0923437866b63cedc61552a5af99d1f4fb67d367b25f"
    }
   }
  }
 },
 "nbformat": 4,
 "nbformat_minor": 2,
 "cells": [
  {
   "cell_type": "code",
   "execution_count": null,
   "metadata": {},
   "outputs": [],
   "source": [
    "import ast\n",
    "import heapq"
   ]
  },
  {
   "cell_type": "code",
   "execution_count": null,
   "metadata": {},
   "outputs": [],
   "source": [
    "rfile = 'Rtree.txt'\n",
    "qfile = 'NNqueries.txt'\n",
    "Rtree = []\n",
    "results = []\n",
    "query = []\n",
    "k = 3\n",
    "with open(rfile,'r') as rf:\n",
    "    for line in rf:\n",
    "        line = ast.literal_eval(line)\n",
    "        Rtree.append(line)\n",
    "del line,rf,rfile"
   ]
  },
  {
   "cell_type": "code",
   "execution_count": null,
   "metadata": {},
   "outputs": [],
   "source": [
    "def dist(q,mbr):\n",
    "    from math import sqrt\n",
    "    q = [float(item) for item in q]\n",
    "    mbr = [float(item) for item in mbr]\n",
    "    x=q[0]\n",
    "    y=q[1]\n",
    "    mxmin = mbr[0]\n",
    "    mxmax = mbr[1]\n",
    "    mymin = mbr[2]\n",
    "    mymax = mbr[3]\n",
    "    dx = 0\n",
    "    dy = 0\n",
    "    if x < mxmin:\n",
    "        dx = mxmin - x\n",
    "    if x > mxmax:\n",
    "        dx = x - mxmax\n",
    "    if y < mymin:\n",
    "        dy = mymin - y\n",
    "    if y > mymax:\n",
    "        dy = y - mymax\n",
    "    return sqrt( dx**2 + dy**2 )"
   ]
  },
  {
   "cell_type": "code",
   "execution_count": null,
   "metadata": {
    "tags": []
   },
   "outputs": [],
   "source": [
    "\n",
    "def kNN_search(root_id,query,topk):\n",
    "    k = topk\n",
    "    global Rtree\n",
    "    nn = []\n",
    "    #heapq.heapify(H)\n",
    "    distance = 99999999999999999999999999999999999999\n",
    "    pq = []\n",
    "    heapq.heapify(pq)\n",
    "    isobject = 0\n",
    "    for entry in Rtree[root_id][2]:\n",
    "        #print(entry)\n",
    "        ds = dist(query,entry[1])\n",
    "        heapq.heappush(pq,[ds,entry,isobject])\n",
    "        #heapq.heappush(pq,[ds,Rtree[root_id][0],Rtree[root_id][1]])\n",
    "        #print(query)\n",
    "        #print(pq[0])\n",
    "    while k:\n",
    "        e = pq[0]\n",
    "        if e[2] == 1:\n",
    "            heapq.heappop(pq)\n",
    "        idx =e[1][0]\n",
    "        #print(e[1][0],Rtree[e[1][0]][0])\n",
    "        if Rtree[idx][0] == 1: #if entry shows not leaf\n",
    "            isobject = 0\n",
    "            n = Rtree[idx][2]\n",
    "            #print('n', n)\n",
    "            for entry in n:\n",
    "                #print(entry)\n",
    "                ds = dist(query,entry[1])\n",
    "                if ds<distance:\n",
    "                    #print(ds,entry)\n",
    "                    heapq.heappush(pq,[ds,entry,isobject])\n",
    "\n",
    "        else:\n",
    "            isobject = 1\n",
    "            n = Rtree[idx][2]\n",
    "            for entry in n:\n",
    "                ds = dist(query,entry[1])\n",
    "                if ds<distance:\n",
    "                    heapq.heappush(pq,[ds,entry,isobject])\n",
    "                    nn = entry[0]\n",
    "                    distance = ds\n",
    "        k = k - 1\n",
    "    print(nn)\n",
    "    #heapq.heappush(H,pq[0][3][0])\n",
    "    #print(H[0])\n",
    "    #distance = pq[0][0]\n",
    "    #print(distance)\n",
    "    #while pq and dist(query,heapq)<\n",
    "\n",
    "    \n",
    "\n",
    "\n",
    "\n",
    "counter = 0\n",
    "root_id = Rtree[-1][1]\n",
    "with open (qfile,'r') as qf:\n",
    "    query = qf.readline().split()\n",
    "    kNN_search(root_id,query,k)\n",
    "    print(counter,'(',len(results),'): ',results)\n",
    "    \n",
    "    while True:\n",
    "        query = qf.readline().split() \n",
    "        counter = counter + 1\n",
    "        if query:\n",
    "            kNN_search(query,root_id)\n",
    "            print(counter,'(',len(results),'): ',results)\n",
    "            \n",
    "        else:\n",
    "            break\n",
    "    "
   ]
  },
  {
   "cell_type": "code",
   "execution_count": null,
   "metadata": {},
   "outputs": [],
   "source": []
  }
 ]
}