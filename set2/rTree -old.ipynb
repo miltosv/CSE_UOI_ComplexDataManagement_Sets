{
 "metadata": {
  "language_info": {
   "codemirror_mode": {
    "name": "ipython",
    "version": 3
   },
   "file_extension": ".py",
   "mimetype": "text/x-python",
   "name": "python",
   "nbconvert_exporter": "python",
   "pygments_lexer": "ipython3",
   "version": "3.7.10"
  },
  "orig_nbformat": 2,
  "kernelspec": {
   "name": "python3",
   "display_name": "Python 3.7.10 64-bit (conda)",
   "metadata": {
    "interpreter": {
     "hash": "b3ba2566441a7c06988d0923437866b63cedc61552a5af99d1f4fb67d367b25f"
    }
   }
  }
 },
 "nbformat": 4,
 "nbformat_minor": 2,
 "cells": [
  {
   "cell_type": "code",
   "execution_count": 25,
   "metadata": {},
   "outputs": [],
   "source": [
    "import pymorton\n",
    "from itertools import islice\n",
    "from copy import deepcopy"
   ]
  },
  {
   "source": [
    "mbr = ['2.232','33.34','4.3','34.32']\n",
    "bb = ['4.0','33.0','4.2','30.32']\n",
    "inside = True\n",
    "for j in range(4):\n",
    "        if not (bb[j]<=mbr[j]):\n",
    "            inside = False\n",
    "print(inside)"
   ],
   "cell_type": "markdown",
   "metadata": {}
  },
  {
   "source": [
    "class node:\n",
    "    \n",
    "    def __init__(self, level, leaf=False):\n",
    "        self.leaf=leaf\n",
    "        self.level=level\n",
    "        self.mbr = []\n",
    "        self.id = []\n",
    "    def addentry(self,entry):\n",
    "        id = entry[0]\n",
    "        mbr = entry[1]\n",
    "        self.mbr.append(mbr)\n",
    "        self.id.append(id)"
   ],
   "cell_type": "markdown",
   "metadata": {}
  },
  {
   "cell_type": "code",
   "execution_count": 26,
   "metadata": {
    "tags": []
   },
   "outputs": [],
   "source": [
    "coords_p='coords.txt'\n",
    "offsets_p='offsets.txt'\n",
    "polygons = []\n",
    "mbrs = []\n",
    "mbr_centres=[]\n",
    "z_curves=[]\n",
    "prev_start=0\n",
    "with open(coords_p) as coordinates:\n",
    "    with open(offsets_p) as offsets:\n",
    "        for offset in offsets:\n",
    "            pointers = [ int(x) for x in offset.split(sep=',') ]\n",
    "            prev_start=pointers[1]\n",
    "            polygon = [line.strip().split(sep=',') for line in islice(coordinates,pointers[1]-prev_start, pointers[2]-pointers[1]+1)]\n",
    "            max_x = max(map(lambda x: x[0], polygon))\n",
    "            min_x = min(map(lambda x: x[0], polygon))\n",
    "            max_y = max(map(lambda x: x[1], polygon))\n",
    "            min_y = min(map(lambda x: x[1], polygon))\n",
    "            mbrs.append([pointers[0],[min_x,max_x,min_y,max_y]])\n",
    "            centre = [(float(max_x)+float(min_x))/2,(float(max_y)+float(min_y))/2]\n",
    "            #mbr_centres.append(centre)\n",
    "            z_curves.append([pointers[0],pymorton.interleave_latlng(centre[1],centre[0])])\n",
    "z_curves.sort(key = lambda x: x[1])\n",
    "mbrs = [mbrs[i] for i in [idx[0] for idx in z_curves]]\n",
    "del mbr_centres\n",
    "\n",
    "\n"
   ]
  },
  {
   "cell_type": "code",
   "execution_count": 27,
   "metadata": {
    "tags": []
   },
   "outputs": [
    {
     "output_type": "stream",
     "name": "stdout",
     "text": [
      "500  nodes at level  0\n"
     ]
    }
   ],
   "source": [
    "Tree = []\n",
    "B = 20\n",
    "queue = []\n",
    "lvl = 0\n",
    "isnonleaf = 0\n",
    "node_id = 0\n",
    "for i in range(0,len(mbrs),B):\n",
    "    #print(i,B+i)\n",
    "    #node = []\n",
    "    nodeentries = mbrs[i:i+B]\n",
    "    queue.append((node_id,nodeentries,lvl))\n",
    "    Tree.append([isnonleaf,node_id,nodeentries])\n",
    "    node_id = node_id + 1\n",
    "    #print(queue[0])\n",
    "print(len(queue),' nodes at level ',lvl)"
   ]
  },
  {
   "cell_type": "code",
   "execution_count": 28,
   "metadata": {
    "tags": []
   },
   "outputs": [
    {
     "output_type": "stream",
     "name": "stdout",
     "text": [
      "25  nodes at level  1\n2  nodes at level  2\n[(525, [[500, ['-112.606999', '-178.333232', '-14.174098', '44.975665']], [501, ['-112.700998', '-123.734396', '33.752815', '44.936217']], [502, ['-100.003123', '-99.858493', '26.284913', '44.905764']], [503, ['-89.999885', '-98.437586', '29.148613', '33.749474']], [504, ['-101.28464', '-90.522924', '33.42116', '44.96481']], [505, ['-100.005599', '-99.976791', '33.787568', '44.974808']], [506, ['-90.025393', '-95.614557', '33.79594', '39.372375']], [507, ['-100.041896', '-99.867423', '36.579924', '45.000011']], [508, ['-90.035211', '-98.40106', '39.38362', '44.94097']], [509, ['-90.012148', '-95.620265', '40.797663', '44.999972']], [510, ['-118.150933', '-91.51333', '43.624491', '71.307504']], [511, ['-100.058971', '-99.977123', '44.999866', '58.344954']], [512, ['-64.795333', '-95.623846', '17.920394', '48.888283']], [513, ['-84.387166', '-90.002267', '29.13693', '33.74689']], [514, ['-80.603704', '-87.169985', '28.172425', '33.74874']], [515, ['-79.045008', '-89.982531', '30.966093', '36.558485']], [516, ['-83.698675', '-89.997324', '33.753745', '39.346831']], [517, ['-78.783215', '-84.366695', '33.751366', '38.965861']], [518, ['-78.813461', '-89.970249', '36.577049', '42.158746']], [519, ['-84.385298', '-90.039548', '40.800726', '44.999021']]], 2), (526, [[520, ['-78.754062', '-85.779656', '39.379959', '44.939292']], [521, ['-74.448529', '-84.258178', '34.253392', '44.918111']], [522, ['-73.165246', '-78.725398', '39.390157', '42.83776']], [523, ['-70.478242', '-78.674749', '40.726612', '44.949553']], [524, ['-66.988993', '145.810585', '13.472297', '48.262055']]], 2)]\n2\nsize is for  526 is 5 <8 redirstributing using 525\nnew sizes are 526 size: 8 525 size: 17\n1  nodes at level  3\n"
     ]
    }
   ],
   "source": [
    "isnonleaf = 1\n",
    "how_many_nodes = 0\n",
    "#changelvl = False\n",
    "reachedRoot=False\n",
    "node = []\n",
    "while len(queue)>1:\n",
    "    i = 0\n",
    "    if queue[0][2]==2:\n",
    "        print(queue)\n",
    "        print(len(queue))\n",
    "    if len(queue)>1 and len(queue[1][1])<8 and queue[0][2]==queue[1][2]:\n",
    "        print('size is for ',queue[1][0], 'is', len(queue[1][1]), '<8 redirstributing using',queue[0][0])\n",
    "        difference = 8 - len(queue[1][1])\n",
    "        to_be_moved = queue[0][1][-difference:]\n",
    "        while to_be_moved:\n",
    "            queue[1][1].insert(0,to_be_moved.pop())\n",
    "        del queue[0][1][-difference:]\n",
    "        print('new sizes are', queue[1][0] ,'size:', len(queue[1][1]), queue[0][0],'size:', len(queue[0][1]))\n",
    "\n",
    "\n",
    "\n",
    "\n",
    "\n",
    "\n",
    "        \n",
    "    while i<20 and len(queue)>1 and queue[0][2] == lvl: \n",
    "        e = queue.pop(0)\n",
    "        bounding = [x[1] for x in e[1]]\n",
    "        xs = [item for sublist in [x[:2] for x in bounding] for item in sublist]\n",
    "        ys = [item for sublist in [x[2:] for x in bounding] for item in sublist]\n",
    "        max_x = max(xs)\n",
    "        min_x = min(xs)\n",
    "        max_y = max(ys)\n",
    "        min_y = min(ys)\n",
    "        node.append([e[0],[min_x,max_x,min_y,max_y]])\n",
    "        i = i + 1\n",
    "    if queue[0][2]!=lvl:\n",
    "        #changelvl=True\n",
    "        if node:\n",
    "            queue.append((node_id,node,lvl+1))\n",
    "            Tree.append([isnonleaf,node_id,node])\n",
    "            node_id = node_id + 1\n",
    "            how_many_nodes = how_many_nodes + 1\n",
    "            node = []\n",
    "        print(how_many_nodes,' nodes at level ', lvl+1)\n",
    "        lvl = lvl + 1\n",
    "        how_many_nodes =0\n",
    "        continue\n",
    "\n",
    "    if len(queue)==1:\n",
    "        reachedRoot=True \n",
    "        \n",
    "    if not reachedRoot:\n",
    "        #print('reached here')\n",
    "        queue.append((node_id,node,lvl+1))\n",
    "        Tree.append([isnonleaf,node_id,node])\n",
    "        how_many_nodes = how_many_nodes + 1\n",
    "        node_id = node_id + 1\n",
    "        node = []\n",
    "    \n",
    "    if reachedRoot:\n",
    "        e = queue.pop(0)\n",
    "        bounding = [x[1] for x in e[1]]\n",
    "        xs = [item for sublist in [x[:2] for x in bounding] for item in sublist]\n",
    "        ys = [item for sublist in [x[2:] for x in bounding] for item in sublist]\n",
    "        max_x = max(xs)\n",
    "        min_x = min(xs)\n",
    "        max_y = max(ys)\n",
    "        min_y = min(ys)\n",
    "        #print(min_x,max_x,min_y,max_y)\n",
    "        node.append([e[0],[min_x,max_x,min_y,max_y]])\n",
    "        Tree.append([isnonleaf,node_id,node])\n",
    "        how_many_nodes = how_many_nodes + 1\n",
    "        print(how_many_nodes,' nodes at level ',lvl+1)      \n",
    "\n",
    "\n",
    "#root = queue.pop(0)        \n",
    "#Tree.append([isnonleaf,node_id,[root[0],root[1]]])    "
   ]
  },
  {
   "cell_type": "code",
   "execution_count": 29,
   "metadata": {
    "tags": []
   },
   "outputs": [],
   "source": [
    "with open('Rtree.txt','w') as output:\n",
    "    [output.write(str(item)+'\\n') for item in Tree]"
   ]
  },
  {
   "source": [
    "ll1 = [0,1,2,3,4]\n",
    "ll2 = [5,6,7,8]\n",
    "difference = 3\n",
    "to_be_moved = ll1[-difference:]\n",
    "while to_be_moved:\n",
    "    ll2.insert(0,to_be_moved.pop())\n",
    "del ll1[-difference:],to_be_moved\n",
    "print(ll1)\n",
    "print(ll2)"
   ],
   "cell_type": "markdown",
   "metadata": {}
  },
  {
   "source": [
    "l1 = [[9,0,1,91],[100,2,89,92]]\n",
    "xs = [item for sublist in [x[:2] for x in l1] for item in sublist]\n",
    "ys = [item for sublist in [x[2:] for x in l1] for item in sublist]\n",
    "print(xs)\n",
    "print(ys)\n",
    "max_x = max(xs)\n",
    "min_x = min(xs)\n",
    "max_y = max(ys)\n",
    "min_y = min(ys)\n",
    "print(max_x,min_x,max_y,min_y)"
   ],
   "cell_type": "code",
   "metadata": {},
   "execution_count": 30,
   "outputs": [
    {
     "output_type": "stream",
     "name": "stdout",
     "text": [
      "[9, 0, 100, 2]\n[1, 91, 89, 92]\n100 0 92 1\n"
     ]
    }
   ]
  },
  {
   "cell_type": "code",
   "execution_count": null,
   "metadata": {},
   "outputs": [],
   "source": []
  }
 ]
}