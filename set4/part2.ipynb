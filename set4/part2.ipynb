{
 "metadata": {
  "language_info": {
   "codemirror_mode": {
    "name": "ipython",
    "version": 3
   },
   "file_extension": ".py",
   "mimetype": "text/x-python",
   "name": "python",
   "nbconvert_exporter": "python",
   "pygments_lexer": "ipython3",
   "version": "3.9.1"
  },
  "orig_nbformat": 4,
  "kernelspec": {
   "name": "python3",
   "display_name": "Python 3.9.1 64-bit ('base': conda)"
  },
  "interpreter": {
   "hash": "efd3e11875f6bca22ee72556dbbf41930a261c2323951324bc9164d107556c8d"
  }
 },
 "nbformat": 4,
 "nbformat_minor": 2,
 "cells": [
  {
   "cell_type": "code",
   "execution_count": 17,
   "metadata": {},
   "outputs": [],
   "source": [
    "import ast\n",
    "import sys\n",
    "import time\n",
    "import heapq"
   ]
  },
  {
   "cell_type": "code",
   "execution_count": 18,
   "metadata": {},
   "outputs": [],
   "source": [
    "transactions_path = 'transactions.txt'\n",
    "queries_path = 'queries.txt'\n",
    "transactions = []\n",
    "with open(transactions_path) as tf:\n",
    "    for line in tf:\n",
    "        transaction = ast.literal_eval(line)\n",
    "        transactions.append(transaction)"
   ]
  },
  {
   "cell_type": "code",
   "execution_count": 19,
   "metadata": {},
   "outputs": [],
   "source": [
    "def setify(sequence):\n",
    "    seq = sorted(sequence,\n",
    "    #reverse=True\n",
    "    )\n",
    "    previous = seq.pop(0)\n",
    "    out = []\n",
    "    out.append(previous)\n",
    "    for number in seq:\n",
    "        if number == previous:\n",
    "            continue\n",
    "        else:\n",
    "            out.append(number)\n",
    "            previous = number\n",
    "    return out\n"
   ]
  },
  {
   "source": [
    "def inverted_index_creator():\n",
    "    global transactions\n",
    "    inverted = {}\n",
    "    for t in range(len(transactions)):\n",
    "        ts = transactions[t]\n",
    "        ts = setify(ts)\n",
    "        for item in ts:\n",
    "            if item in inverted:\n",
    "                inverted[item].append(t)\n",
    "            else:\n",
    "                inverted[item] = [t]\n",
    "    return inverted"
   ],
   "cell_type": "markdown",
   "metadata": {}
  },
  {
   "cell_type": "code",
   "execution_count": 20,
   "metadata": {},
   "outputs": [],
   "source": [
    "def count_trf_in_transaction(trf,transaction):\n",
    "    tr = setify(transaction)\n",
    "    #print(tr)\n",
    "    for item in tr:\n",
    "        if item in trf:\n",
    "            trf[item] = trf[item] + 1\n",
    "        else:\n",
    "            trf[item] = 1"
   ]
  },
  {
   "cell_type": "code",
   "execution_count": 21,
   "metadata": {},
   "outputs": [],
   "source": [
    "def count_occ_of_item_in_transaction(occ,transaction,t):    \n",
    "    for item in transaction:\n",
    "        if item in occ:            \n",
    "            if t in occ[item]:\n",
    "                occ[item][t] = occ[item][t] + 1\n",
    "            else:\n",
    "                occ[item][t] = 1\n",
    "        else:\n",
    "            occ[item] = {t : 1}"
   ]
  },
  {
   "cell_type": "code",
   "execution_count": 22,
   "metadata": {
    "tags": []
   },
   "outputs": [],
   "source": [
    "def count_trf_of_item_all_transactions():\n",
    "    global transactions\n",
    "    trf = {}\n",
    "    occ = {}\n",
    "    for t in range(len(transactions)):\n",
    "        tr = transactions[t]\n",
    "        count_trf_in_transaction(trf,tr)\n",
    "        count_occ_of_item_in_transaction(occ,tr,t)\n",
    "    return (trf,occ)\n",
    "trf_occ = count_trf_of_item_all_transactions()\n",
    "trf = trf_occ[0]\n",
    "occ = trf_occ[1]"
   ]
  },
  {
   "cell_type": "code",
   "execution_count": 23,
   "metadata": {
    "tags": []
   },
   "outputs": [],
   "source": [
    "#print(trf[0])\n",
    "#print(occ[15][5])"
   ]
  },
  {
   "cell_type": "code",
   "execution_count": 24,
   "metadata": {},
   "outputs": [],
   "source": [
    "ratio = {}\n",
    "T = len(transactions)\n",
    "for i in trf:\n",
    "    ratio[i] = T/trf[i]\n",
    "\n"
   ]
  },
  {
   "cell_type": "code",
   "execution_count": 25,
   "metadata": {
    "tags": []
   },
   "outputs": [],
   "source": [
    "def write_dict_to_file(dct,name):\n",
    "    global ratio\n",
    "    with open(name,mode='w',newline='\\n') as fp:\n",
    "        for k in sorted(dct):\n",
    "            fp.write(str(k)+':')\n",
    "            list_of_lists = [list(elem) for elem in dct[k].items()]\n",
    "            fp.write(str(ratio[k])+', ')\n",
    "            fp.write(str(list_of_lists))\n",
    "            fp.write('\\n')       \n",
    "\n",
    "write_dict_to_file(occ,'invfileocc.txt')"
   ]
  },
  {
   "cell_type": "code",
   "execution_count": 26,
   "metadata": {},
   "outputs": [],
   "source": [
    "def rel(t,q):\n",
    "    result = 0.0\n",
    "    query = setify(q)\n",
    "    for item in query:\n",
    "        if t in occ[item]:\n",
    "            result += occ[item][t] * ratio[item]\n",
    "    return result\n"
   ]
  },
  {
   "cell_type": "code",
   "execution_count": 27,
   "metadata": {},
   "outputs": [],
   "source": [
    "queries = []\n",
    "\n",
    "with open(queries_path) as qf:\n",
    "    for line in qf:\n",
    "        q = ast.literal_eval(line)\n",
    "        queries.append(q)"
   ]
  },
  {
   "cell_type": "code",
   "execution_count": 28,
   "metadata": {},
   "outputs": [],
   "source": [
    "def merge(l1,l2):\n",
    "    import copy\n",
    "    lst1 = copy.deepcopy(l1)\n",
    "    lst2 = copy.deepcopy(l2)\n",
    "    res = []\n",
    "    if lst1 and (not lst2):\n",
    "        res = lst1\n",
    "        return res\n",
    "    elif lst2 and (not lst1):\n",
    "        res = lst2\n",
    "        return res\n",
    "    if not(lst1 and lst2):\n",
    "        return []        \n",
    "    i = 0\n",
    "    j = 0\n",
    "    while i<len(lst1) and j<len(lst2):\n",
    "        if lst1[i] < lst2[j]:\n",
    "            res.append(lst1[i])\n",
    "            i += 1\n",
    "        elif lst1[i] == lst2[j]:\n",
    "            res.append(lst1[i])\n",
    "            i += 1\n",
    "            j += 1\n",
    "        else:\n",
    "            res.append(lst2[j])\n",
    "            j +=1\n",
    "    \n",
    "    if i<len(lst1):\n",
    "        res = res + lst1[i:]\n",
    "        return res\n",
    "    if j<len(lst2):\n",
    "        res = res + lst2[j:]\n",
    "        return res\n",
    "\n",
    "#print(merge([],[2,9,99]))\n"
   ]
  },
  {
   "cell_type": "code",
   "execution_count": 29,
   "metadata": {},
   "outputs": [],
   "source": [
    "def inverted_relevance(query):\n",
    "    contain = [list(occ[x].keys()) for x in query]\n",
    "    merged = []\n",
    "    #print(query)\n",
    "    while contain:\n",
    "        merged = merge(merged,contain.pop())\n",
    "    \n",
    "    #print(merged)\n",
    "    if not merged:\n",
    "        return []\n",
    "    topk = []\n",
    "    for transaction in merged:\n",
    "        score = rel(transaction,query)\n",
    "        heapq.heappush(topk,[-score,transaction])\n",
    "    #print(topk[0])\n",
    "    return topk"
   ]
  },
  {
   "cell_type": "code",
   "execution_count": 30,
   "metadata": {},
   "outputs": [],
   "source": [
    "def naive(query):\n",
    "    global transactions\n",
    "    global trf\n",
    "    def counter(t):\n",
    "        count = {}\n",
    "        for i in t:\n",
    "            if i in count:\n",
    "                count[i] += 1\n",
    "            else:\n",
    "                count[i] = 1\n",
    "        return count\n",
    "    #print(query)\n",
    "    topk = []\n",
    "    for t in range(len(transactions)):\n",
    "        count = {}\n",
    "        count = counter(transactions[t])\n",
    "        #print(count)\n",
    "        #break\n",
    "        score = 0.0\n",
    "        for item in query:\n",
    "            if item in count:\n",
    "                score += count[item]*ratio[item]\n",
    "        if score>0:\n",
    "            heapq.heappush(topk,[-score,t])\n",
    "    return topk\n",
    "def test_naive():\n",
    "    testresult = naive(queries[0])\n",
    "    i = 2\n",
    "    while testresult and i>0:\n",
    "        r = heapq.heappop(testresult)\n",
    "        r[0] = -r[0]\n",
    "        print(r)\n",
    "        i -= 1\n",
    "#test_naive()"
   ]
  },
  {
   "cell_type": "code",
   "execution_count": 31,
   "metadata": {},
   "outputs": [],
   "source": [
    "def ask(queryID,method,k):\n",
    "    global transactions\n",
    "    global queries\n",
    "    methods={\n",
    "        0 : naive,\n",
    "        1 : inverted_relevance\n",
    "    }\n",
    "\n",
    "    def printtopk(topk,k):\n",
    "        while topk and k>0:\n",
    "            r = heapq.heappop(topk)\n",
    "            r[0] = -r[0]\n",
    "            print(r)\n",
    "            k -= 1\n",
    "\n",
    "\n",
    "    if method > -1:    \n",
    "        if queryID == -1:\n",
    "            t1 = time.time()\n",
    "            for query in queries:\n",
    "                methods[method](query)\n",
    "            t2 = time.time()\n",
    "            print('Time Elapsed method',methods[method].__name__,'is',t2-t1,'for all the queries in the file')\n",
    "        else:        \n",
    "            t1 = time.time()\n",
    "            results = methods[method](queries[queryID])\n",
    "            t2 = time.time()\n",
    "            printtopk(results,k)\n",
    "            print('Time Elapsed method',methods[method].__name__,'is',t2-t1)\n",
    "\n",
    "    elif method == -1:\n",
    "        if queryID == -1:\n",
    "            for method in methods:\n",
    "                t1 = time.time()\n",
    "                for query in queries:\n",
    "                    methods[method](query)\n",
    "                t2 = time.time()\n",
    "                print('Time Elapsed method',methods[method].__name__,'is',t2-t1,'for all the queries in the file')\n",
    "        else:\n",
    "            for method in methods:        \n",
    "                t1 = time.time()\n",
    "                methods[method](queries[queryID])\n",
    "                t2 = time.time()\n",
    "                print('Time Elapsed method',methods[method].__name__,'is',t2-t1)"
   ]
  },
  {
   "cell_type": "code",
   "execution_count": 32,
   "metadata": {
    "tags": []
   },
   "outputs": [
    {
     "output_type": "stream",
     "name": "stdout",
     "text": [
      "Time Elapsed method naive is 3.0285260677337646 for all the queries in the file\n",
      "Time Elapsed method inverted_relevance is 2.170708179473877 for all the queries in the file\n"
     ]
    }
   ],
   "source": [
    "ask(-1,-1,2)"
   ]
  },
  {
   "cell_type": "code",
   "execution_count": null,
   "metadata": {},
   "outputs": [],
   "source": []
  }
 ]
}