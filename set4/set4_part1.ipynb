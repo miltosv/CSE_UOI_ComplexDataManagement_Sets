{
 "metadata": {
  "language_info": {
   "codemirror_mode": {
    "name": "ipython",
    "version": 3
   },
   "file_extension": ".py",
   "mimetype": "text/x-python",
   "name": "python",
   "nbconvert_exporter": "python",
   "pygments_lexer": "ipython3",
   "version": "3.9.1"
  },
  "orig_nbformat": 2,
  "kernelspec": {
   "name": "python3",
   "display_name": "Python 3.9.1 64-bit ('base': conda)"
  },
  "interpreter": {
   "hash": "efd3e11875f6bca22ee72556dbbf41930a261c2323951324bc9164d107556c8d"
  }
 },
 "nbformat": 4,
 "nbformat_minor": 2,
 "cells": [
  {
   "source": [
    "Miltiades Vasiliades 2944"
   ],
   "cell_type": "markdown",
   "metadata": {}
  },
  {
   "cell_type": "code",
   "execution_count": 19,
   "metadata": {},
   "outputs": [],
   "source": [
    "import ast\n",
    "import time"
   ]
  },
  {
   "cell_type": "code",
   "execution_count": 20,
   "metadata": {
    "tags": []
   },
   "outputs": [],
   "source": [
    "queries_path='queries.txt'\n",
    "transactions_path='transactions.txt'\n",
    "\n",
    "\n",
    "transactions = []\n",
    "with open(transactions_path) as tf:\n",
    "    for line in tf:\n",
    "        transaction = ast.literal_eval(line)\n",
    "        transactions.append(transaction)\n",
    "\n",
    "queries = []\n",
    "\n",
    "with open(queries_path) as qf:\n",
    "    for line in qf:\n",
    "        q = ast.literal_eval(line)\n",
    "        queries.append(q)\n",
    "        "
   ]
  },
  {
   "cell_type": "code",
   "execution_count": 21,
   "metadata": {
    "tags": []
   },
   "outputs": [],
   "source": [
    "def naive_query(questions):\n",
    "    questions = sorted(questions)\n",
    "    results = []\n",
    "    for t in range(len(transactions)):\n",
    "        st = transactions[t]\n",
    "        st = sorted(st)\n",
    "        contains = False\n",
    "        i = 0\n",
    "        for q in questions:\n",
    "            if contains:\n",
    "                contains = False\n",
    "            while i < len(st):\n",
    "                if st[i] < q:\n",
    "                    i += 1\n",
    "                elif st[i] == q:\n",
    "                    contains = True\n",
    "                    i += 1\n",
    "                else:\n",
    "                    break\n",
    "            if not contains:\n",
    "                break\n",
    "        if contains:\n",
    "            results.append(t)                                   \n",
    "    \n",
    "    return set(results)"
   ]
  },
  {
   "cell_type": "code",
   "execution_count": 22,
   "metadata": {},
   "outputs": [],
   "source": [
    "#print(sorted(list(naive_query([41,0]))))"
   ]
  },
  {
   "cell_type": "code",
   "execution_count": 23,
   "metadata": {},
   "outputs": [],
   "source": [
    "def setify(sequence):\n",
    "    seq = sorted(sequence,reverse=True)\n",
    "    previous = seq.pop(0)\n",
    "    out = []\n",
    "    out.append(previous)\n",
    "    for number in seq:\n",
    "        if number == previous:\n",
    "            continue\n",
    "        else:\n",
    "            out.append(number)\n",
    "            previous = number\n",
    "    return out\n",
    "#setify([3,4,9,9,9,9,9,9,9,9,9,9,9,4,0])"
   ]
  },
  {
   "cell_type": "code",
   "execution_count": 24,
   "metadata": {},
   "outputs": [],
   "source": [
    "def mapbit(sequence):\n",
    "    seq = setify(sequence)\n",
    "    bitmap = ['0']\n",
    "    bitmap = bitmap * (seq[0]+1)\n",
    "    for item in seq:\n",
    "        bitmap[item] = '1'\n",
    "    bitmap.reverse()\n",
    "    return ''.join(bitmap)\n",
    "\n",
    "#mapbit([0,1])"
   ]
  },
  {
   "cell_type": "code",
   "execution_count": 25,
   "metadata": {
    "tags": []
   },
   "outputs": [],
   "source": [
    " sigfile = [int(mapbit(ts),2) for ts in transactions]\n",
    " with open('sigfile.txt',mode = 'w') as sf:\n",
    "     sf.write('\\n'.join([str(x) for x in sigfile]))     "
   ]
  },
  {
   "cell_type": "code",
   "execution_count": 26,
   "metadata": {},
   "outputs": [],
   "source": [
    "def sigfile_query(questions):\n",
    "    global sigfile\n",
    "    results = []\n",
    "    query_signature = int(mapbit(questions), 2)\n",
    "    for t in range(len(sigfile)):\n",
    "        if (query_signature & (~sigfile[t]) ) == 0:\n",
    "            results.append(t)\n",
    "    return set(results)\n",
    "#sigfile_query(queries[0])"
   ]
  },
  {
   "cell_type": "code",
   "execution_count": 27,
   "metadata": {},
   "outputs": [],
   "source": [
    "def create_bitslice():\n",
    "    global transactions\n",
    "    bitslices = {}\n",
    "    for t in range(len(transactions)):\n",
    "        tr = setify(transactions[t])\n",
    "        for element in tr:\n",
    "            if element in bitslices:\n",
    "                bitslices[element] = bitslices[element] + pow(2,t)\n",
    "            else:\n",
    "                bitslices[element] = pow(2,t)\n",
    "    return bitslices\n",
    "def write_dict_to_json(dct,name,sep):\n",
    "    import json\n",
    "    with open(name,mode='w') as f:\n",
    "        f.write(json.dumps(dct,sort_keys=True,separators=sep))\n",
    "\n",
    "def write_dict_to_csv(dct,name):\n",
    "    with open(name,mode='w',newline='\\n') as fp:\n",
    "        import csv    \n",
    "        writer = csv.writer(fp)\n",
    "        for key, value in sorted(dct.items()):\n",
    "            writer.writerow([key, value])"
   ]
  },
  {
   "cell_type": "code",
   "execution_count": 28,
   "metadata": {},
   "outputs": [],
   "source": [
    "bitslices = create_bitslice()\n",
    "#write_dict_to_json(bitslices,'bitslice.txt',('\\n', ':'))\n",
    "write_dict_to_csv(bitslices,'bitslice.txt')"
   ]
  },
  {
   "cell_type": "code",
   "execution_count": 29,
   "metadata": {},
   "outputs": [],
   "source": [
    "def bitslice_query(questions):\n",
    "    global bitslices\n",
    "    results = []\n",
    "    queryAND = '1'*len(transactions)\n",
    "    queryAND = int(queryAND,2)\n",
    "    #print(queryAND)\n",
    "    for q in questions:\n",
    "        queryAND = queryAND & bitslices[q]\n",
    "        #print(queryAND)\n",
    "\n",
    "    queryAND = format(queryAND, 'b')[::-1]\n",
    "    for i in range(len(queryAND)):\n",
    "        if int(queryAND[i]):\n",
    "            results.append(i)\n",
    "    return set(results)       \n",
    "#bitslice_query(queries[0])"
   ]
  },
  {
   "cell_type": "code",
   "execution_count": 30,
   "metadata": {},
   "outputs": [
    {
     "output_type": "execute_result",
     "data": {
      "text/plain": [
       "{77,\n",
       " 322,\n",
       " 1258,\n",
       " 2063,\n",
       " 2227,\n",
       " 2289,\n",
       " 2454,\n",
       " 4854,\n",
       " 5523,\n",
       " 5923,\n",
       " 6596,\n",
       " 7182,\n",
       " 7641,\n",
       " 8131,\n",
       " 8838,\n",
       " 9650,\n",
       " 9752}"
      ]
     },
     "metadata": {},
     "execution_count": 30
    }
   ],
   "source": [
    "bitslice_query(queries[0])"
   ]
  },
  {
   "cell_type": "code",
   "execution_count": 31,
   "metadata": {},
   "outputs": [],
   "source": [
    "def inverted_index_creator():\n",
    "    global transactions\n",
    "    inverted = {}\n",
    "    for t in range(len(transactions)):\n",
    "        ts = transactions[t]\n",
    "        ts = setify(ts)\n",
    "        for item in ts:\n",
    "            if item in inverted:\n",
    "                inverted[item].append(t)\n",
    "            else:\n",
    "                inverted[item] = [t]\n",
    "    return inverted\n",
    "            "
   ]
  },
  {
   "cell_type": "code",
   "execution_count": 32,
   "metadata": {
    "tags": []
   },
   "outputs": [],
   "source": [
    "inverted_index = inverted_index_creator()\n",
    "#write_dict_to_file(inverted_index,'invfile.txt',(\",\",':'))\n",
    "write_dict_to_csv(inverted_index,'invfile.txt')"
   ]
  },
  {
   "cell_type": "code",
   "execution_count": 33,
   "metadata": {},
   "outputs": [],
   "source": [
    "def join_merge_intersect(L1,L2):\n",
    "    from copy import deepcopy\n",
    "    L1 = deepcopy(L1)\n",
    "    L2 = deepcopy(L2)\n",
    "    i = 0\n",
    "    j = 0\n",
    "    result = []\n",
    "    while i<len(L1) and j<len(L2):\n",
    "        if L1[i] < L2[j]:\n",
    "            i += 1\n",
    "        elif L1[i] == L2[j]:\n",
    "            result.append(L1[i])\n",
    "            i += 1\n",
    "            j += 1\n",
    "        else:\n",
    "            j +=1\n",
    "    return result\n",
    "#join_merge_intersect([1,3,4,5],[1,3,4,6])"
   ]
  },
  {
   "cell_type": "code",
   "execution_count": 34,
   "metadata": {},
   "outputs": [],
   "source": [
    "def inverted_query(questions):\n",
    "    global inverted_index\n",
    "    results = []\n",
    "    q = setify(questions)\n",
    "    intermediate = [sorted(inverted_index[i]) for i in q]\n",
    "    if len(intermediate) == 1:\n",
    "        results = intermediate.pop()\n",
    "    elif len(intermediate) >= 2:\n",
    "        #print('at least 2')\n",
    "        L1 = intermediate.pop()\n",
    "        L2 = intermediate.pop()\n",
    "        results = join_merge_intersect(L1,L2)\n",
    "        while len(intermediate):\n",
    "            #print('more than 2')\n",
    "            results = join_merge_intersect(results,intermediate.pop())\n",
    "    return set(results)\n",
    "#print(inverted_query(queries[0]))"
   ]
  },
  {
   "cell_type": "code",
   "execution_count": 35,
   "metadata": {},
   "outputs": [],
   "source": [
    "def ask(queryID,method):\n",
    "    methods = {\n",
    "        0 : naive_query,\n",
    "        1 : sigfile_query,\n",
    "        2 : bitslice_query,\n",
    "        3 : inverted_query\n",
    "    }\n",
    "    if method > -1:    \n",
    "        if queryID == -1:\n",
    "            for query in queries:\n",
    "                print(methods[method](query))\n",
    "        else:        \n",
    "            t1 = time.time()\n",
    "            print(methods[method](queries[queryID]))\n",
    "            t2 = time.time()\n",
    "            print('Time Elapsed method',methods[method].__name__,'is',t2-t1)\n",
    "\n",
    "    elif method == -1:\n",
    "        if queryID == -1:\n",
    "            for method in methods:\n",
    "                t1 = time.time()\n",
    "                for query in queries:\n",
    "                    #print(methods[method](query))\n",
    "                    methods[method](query)\n",
    "                t2 = time.time()\n",
    "                print('Time Elapsed method',methods[method].__name__,'is',t2-t1,'for ALL QUERIES')\n",
    "        else:\n",
    "            for method in methods:        \n",
    "                t1 = time.time()\n",
    "                methods[method](queries[queryID])\n",
    "                t2 = time.time()\n",
    "                print('Time Elapsed method',methods[method].__name__,'is',t2-t1)"
   ]
  },
  {
   "cell_type": "code",
   "execution_count": 36,
   "metadata": {
    "tags": []
   },
   "outputs": [
    {
     "output_type": "stream",
     "name": "stdout",
     "text": [
      "{322, 5923, 6596, 8131, 8838, 1258, 77, 7182, 2063, 2289, 9650, 2227, 5523, 2454, 4854, 9752, 7641}\n",
      "Time Elapsed method naive_query is 0.04699397087097168\n",
      "{322, 5923, 6596, 8131, 8838, 1258, 77, 7182, 2063, 2289, 9650, 2227, 5523, 2454, 4854, 9752, 7641}\n",
      "Time Elapsed method sigfile_query is 0.00436091423034668\n",
      "{322, 5923, 6596, 8131, 8838, 1258, 77, 7182, 2063, 2289, 9650, 2227, 5523, 2454, 4854, 9752, 7641}\n",
      "Time Elapsed method bitslice_query is 0.005042076110839844\n",
      "{322, 5923, 6596, 8131, 8838, 1258, 77, 7182, 2063, 2289, 9650, 2227, 5523, 2454, 4854, 9752, 7641}\n",
      "Time Elapsed method inverted_query is 0.006182193756103516\n",
      "Time Elapsed method naive_query is 2.1509552001953125 for ALL QUERIES\n",
      "Time Elapsed method sigfile_query is 0.23317480087280273 for ALL QUERIES\n",
      "Time Elapsed method bitslice_query is 0.29593920707702637 for ALL QUERIES\n",
      "Time Elapsed method inverted_query is 0.5816442966461182 for ALL QUERIES\n"
     ]
    }
   ],
   "source": [
    "ask(0,0)\n",
    "ask(0,1)\n",
    "ask(0,2)\n",
    "ask(0,3)\n",
    "ask(-1,-1)"
   ]
  },
  {
   "cell_type": "code",
   "execution_count": null,
   "metadata": {},
   "outputs": [],
   "source": []
  }
 ]
}